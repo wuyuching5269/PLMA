{
  "nbformat": 4,
  "nbformat_minor": 0,
  "metadata": {
    "colab": {
      "provenance": []
    },
    "kernelspec": {
      "name": "python3",
      "display_name": "Python 3"
    },
    "language_info": {
      "name": "python"
    }
  },
  "cells": [
    {
      "cell_type": "code",
      "execution_count": 1,
      "metadata": {
        "colab": {
          "base_uri": "https://localhost:8080/"
        },
        "id": "JZpjrRwwsl4O",
        "outputId": "d705bef4-7d64-45fa-9f3a-13c57cd1664c"
      },
      "outputs": [
        {
          "output_type": "stream",
          "name": "stdout",
          "text": [
            "請輸入年份5269\n",
            "是平年\n"
          ]
        }
      ],
      "source": [
        "a = int(input('請輸入年份'))\n",
        "if a>1582:\n",
        "  if a%400==0:\n",
        "    print('是閏年')\n",
        "  elif a%4==0 and a%100!=0:\n",
        "    print('是閏年')\n",
        "  else:\n",
        "    print('是平年')\n",
        "elif a%4==0:\n",
        "  print('是閏年')\n",
        "else:\n",
        "  print('是平年')"
      ]
    }
  ]
}