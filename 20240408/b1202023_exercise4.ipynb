{
  "nbformat": 4,
  "nbformat_minor": 0,
  "metadata": {
    "colab": {
      "provenance": []
    },
    "kernelspec": {
      "name": "python3",
      "display_name": "Python 3"
    },
    "language_info": {
      "name": "python"
    }
  },
  "cells": [
    {
      "cell_type": "code",
      "source": [
        "a = float(input('請輸入身高(公分)'))\n",
        "b = float(input('請輸入體重(公斤)'))\n",
        "c = a*0.01\n",
        "f = c**2\n",
        "d = str(b/f)\n",
        "e = b/f\n",
        "print('BMI:'+d)\n",
        "if e<18.5:\n",
        "  print('體位:過輕')\n",
        "if 18.5<=e<24:\n",
        "  print('體位:適中')\n",
        "if 24<=e<27:\n",
        "  print('體位:過重')\n",
        "if e>=27:\n",
        "  print('體位:肥胖')\n"
      ],
      "metadata": {
        "colab": {
          "base_uri": "https://localhost:8080/"
        },
        "id": "l4x3qJ2tlmvq",
        "outputId": "805bf91f-0b8f-423f-c3bb-cada324316d6"
      },
      "execution_count": 8,
      "outputs": [
        {
          "output_type": "stream",
          "name": "stdout",
          "text": [
            "請輸入身高(公分)190\n",
            "請輸入體重(公斤)90\n",
            "BMI:24.93074792243767\n",
            "體位:過重\n"
          ]
        }
      ]
    },
    {
      "cell_type": "code",
      "source": [
        "a = int(input('請輸入第一個數'))\n",
        "c = input('請輸入運算符號')\n",
        "b = int(input('請輸入第二個數'))\n",
        "if c=='+':\n",
        "  print(a+b)\n",
        "if c=='-':\n",
        "  print(a-b)\n",
        "if c=='*':\n",
        "  print(a*b)\n",
        "if c=='/':\n",
        "  print(a/b)"
      ],
      "metadata": {
        "colab": {
          "base_uri": "https://localhost:8080/"
        },
        "id": "Y-FFYxCap7E6",
        "outputId": "475dc415-a090-40b3-dc73-fa33df0f9d5e"
      },
      "execution_count": 13,
      "outputs": [
        {
          "output_type": "stream",
          "name": "stdout",
          "text": [
            "請輸入第一個數6\n",
            "請輸入運算符號+\n",
            "請輸入第二個數9\n",
            "15\n"
          ]
        }
      ]
    }
  ]
}