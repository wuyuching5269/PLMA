{
  "nbformat": 4,
  "nbformat_minor": 0,
  "metadata": {
    "colab": {
      "provenance": []
    },
    "kernelspec": {
      "name": "python3",
      "display_name": "Python 3"
    },
    "language_info": {
      "name": "python"
    }
  },
  "cells": [
    {
      "cell_type": "code",
      "source": [
        "a = int(input('請輸入層數'))\n",
        "star = '*'\n",
        "def christmas_tree(rows):\n",
        "    for i in range(rows):\n",
        "        print(' ' * (rows - i - 1) + '*' * (2 * i + 1))\n",
        "rows = a\n",
        "def trunk():\n",
        "  for i in range(5):\n",
        "    print(' '*(rows-2)+'*'*3)\n",
        "christmas_tree(a)\n",
        "trunk()"
      ],
      "metadata": {
        "colab": {
          "base_uri": "https://localhost:8080/"
        },
        "id": "JSYN2lmKyPRd",
        "outputId": "c4956e46-dab8-4735-85d1-f65ed564209c"
      },
      "execution_count": 24,
      "outputs": [
        {
          "output_type": "stream",
          "name": "stdout",
          "text": [
            "請輸入層數11\n",
            "          *\n",
            "         ***\n",
            "        *****\n",
            "       *******\n",
            "      *********\n",
            "     ***********\n",
            "    *************\n",
            "   ***************\n",
            "  *****************\n",
            " *******************\n",
            "*********************\n",
            "         ***\n",
            "         ***\n",
            "         ***\n",
            "         ***\n",
            "         ***\n"
          ]
        }
      ]
    },
    {
      "cell_type": "markdown",
      "source": [],
      "metadata": {
        "id": "CPndl9gp5Jb8"
      }
    },
    {
      "cell_type": "code",
      "source": [
        "def BMI(a,b):\n",
        "  a/=100\n",
        "  a*=a\n",
        "  return b/a\n",
        "try:\n",
        "  a = float(input('請輸入身高(公分)'))\n",
        "  b = float(input('請輸入體重(公斤)'))\n",
        "  c = a*0.01\n",
        "  f = c**2\n",
        "  d = str(b/f)\n",
        "  e = b/f\n",
        "  print('BMI:'+d)\n",
        "  if e<18.5:\n",
        "    print('體位:過輕')\n",
        "  if 18.5<=e<24:\n",
        "    print('體位:適中')\n",
        "  if 24<=e<27:\n",
        "    print('體位:過重')\n",
        "  if e>=27:\n",
        "    print('體位:肥胖')\n",
        "except:\n",
        "  print('內容輸入錯誤')"
      ],
      "metadata": {
        "colab": {
          "base_uri": "https://localhost:8080/"
        },
        "id": "6vi_JOpS4MCc",
        "outputId": "50189fb0-67bb-4ac0-fd76-3ffdad2a423b"
      },
      "execution_count": 28,
      "outputs": [
        {
          "output_type": "stream",
          "name": "stdout",
          "text": [
            "請輸入身高(公分)182\n",
            "請輸入體重(公斤)82\n",
            "BMI:24.755464315903875\n",
            "體位:過重\n"
          ]
        }
      ]
    }
  ]
}