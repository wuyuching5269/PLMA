{
  "nbformat": 4,
  "nbformat_minor": 0,
  "metadata": {
    "colab": {
      "provenance": []
    },
    "kernelspec": {
      "name": "python3",
      "display_name": "Python 3"
    },
    "language_info": {
      "name": "python"
    }
  },
  "cells": [
    {
      "cell_type": "code",
      "execution_count": 9,
      "metadata": {
        "colab": {
          "base_uri": "https://localhost:8080/"
        },
        "id": "QvArc48aZmTf",
        "outputId": "559e1c9b-5655-484b-9528-8678f40f5ff9"
      },
      "outputs": [
        {
          "output_type": "stream",
          "name": "stdout",
          "text": [
            "{'姓名': '賴宏瑋', '性別': '男', '作業分數': [100, 100, 90], '學號': 'M1129020'}\n",
            "96.66666666666667\n"
          ]
        }
      ],
      "source": [
        "a = {'姓名':'賴宏瑋','性別':'男','作業分數':[80,95,100,90]}\n",
        "b = a.setdefault('學號','M1129020')\n",
        "a['作業分數'][1]=100\n",
        "del a ['作業分數'][0]\n",
        "print(a)\n",
        "b = a.pop('作業分數')\n",
        "c = list(b)\n",
        "print((c[0]+c[1]+c[2])/3)"
      ]
    }
  ]
}