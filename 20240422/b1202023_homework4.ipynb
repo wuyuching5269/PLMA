{
  "nbformat": 4,
  "nbformat_minor": 0,
  "metadata": {
    "colab": {
      "provenance": []
    },
    "kernelspec": {
      "name": "python3",
      "display_name": "Python 3"
    },
    "language_info": {
      "name": "python"
    }
  },
  "cells": [
    {
      "cell_type": "code",
      "execution_count": null,
      "metadata": {
        "colab": {
          "base_uri": "https://localhost:8080/"
        },
        "id": "W4qew9UmpyNl",
        "outputId": "fcb5ee23-a166-4deb-af5c-c2693103c568"
      },
      "outputs": [
        {
          "output_type": "stream",
          "name": "stdout",
          "text": [
            "1x1= 1 1x2= 2 1x3= 3 1x4= 4 1x5= 5 1x6= 6 1x7= 7 1x8= 8 1x9= 9 \n",
            "2x1= 2 2x2= 4 2x3= 6 2x4= 8 2x5=10 2x6=12 2x7=14 2x8=16 2x9=18 \n",
            "3x1= 3 3x2= 6 3x3= 9 3x4=12 3x5=15 3x6=18 3x7=21 3x8=24 3x9=27 \n",
            "4x1= 4 4x2= 8 4x3=12 4x4=16 4x5=20 4x6=24 4x7=28 4x8=32 4x9=36 \n",
            "5x1= 5 5x2=10 5x3=15 5x4=20 5x5=25 5x6=30 5x7=35 5x8=40 5x9=45 \n",
            "6x1= 6 6x2=12 6x3=18 6x4=24 6x5=30 6x6=36 6x7=42 6x8=48 6x9=54 \n",
            "7x1= 7 7x2=14 7x3=21 7x4=28 7x5=35 7x6=42 7x7=49 7x8=56 7x9=63 \n",
            "8x1= 8 8x2=16 8x3=24 8x4=32 8x5=40 8x6=48 8x7=56 8x8=64 8x9=72 \n",
            "9x1= 9 9x2=18 9x3=27 9x4=36 9x5=45 9x6=54 9x7=63 9x8=72 9x9=81 \n"
          ]
        }
      ],
      "source": [
        "i=0\n",
        "j=0\n",
        "while i <=8:\n",
        "  i+=1\n",
        "  while j <=8:\n",
        "    j+=1\n",
        "    ans=i*j\n",
        "    print(f'{i}x{j}={ans:2d}',end=' ')\n",
        "  j=0\n",
        "  print()"
      ]
    },
    {
      "cell_type": "code",
      "source": [
        "import random\n",
        "a = random.sample(range(1,10), 4)\n",
        "print('答案:',a)\n",
        "guesscount = 0\n",
        "while True:\n",
        "  b = input('請猜一個四位數字:')\n",
        "  if len(b) != 4 or not b.isdigit():\n",
        "    print('請輸入四個數字，且每個數字不重複')\n",
        "    continue\n",
        "  guesscount+=1\n",
        "  b = list(map(int,b))\n",
        "\n",
        "  c = 0\n",
        "  d = 0\n",
        "  for i in range(4):\n",
        "    if b[i]==a[i]:\n",
        "      c+=1\n",
        "    elif b[i] in a:\n",
        "      d+=1\n",
        "\n",
        "  print(f'{c}A{d}B')\n",
        "  if c == 4:\n",
        "    print(f'恭喜你猜對了!答案是{\"\".join(map(str, a))}')\n",
        "    break\n",
        "print(f'你總共猜了{guesscount}次')"
      ],
      "metadata": {
        "colab": {
          "base_uri": "https://localhost:8080/"
        },
        "id": "Doy0ldXfuYVT",
        "outputId": "c7af0e88-3c12-4be2-fc52-4e80d99ab16d"
      },
      "execution_count": null,
      "outputs": [
        {
          "output_type": "stream",
          "name": "stdout",
          "text": [
            "答案: [3, 5, 8, 9]\n",
            "請猜一個四位數字:12345\n",
            "請輸入四個數字，且每個數字不重複\n",
            "請猜一個四位數字:5269\n",
            "1A1B\n",
            "請猜一個四位數字:1769\n",
            "1A0B\n",
            "請猜一個四位數字:6969\n",
            "1A1B\n",
            "請猜一個四位數字:6917\n",
            "0A1B\n",
            "請猜一個四位數字:3589\n",
            "4A0B\n",
            "恭喜你猜對了!答案是3589\n",
            "你總共猜了5次\n"
          ]
        }
      ]
    }
  ]
}