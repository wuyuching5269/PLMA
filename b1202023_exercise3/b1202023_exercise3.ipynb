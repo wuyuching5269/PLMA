{
  "nbformat": 4,
  "nbformat_minor": 0,
  "metadata": {
    "colab": {
      "provenance": []
    },
    "kernelspec": {
      "name": "python3",
      "display_name": "Python 3"
    },
    "language_info": {
      "name": "python"
    }
  },
  "cells": [
    {
      "cell_type": "code",
      "execution_count": 12,
      "metadata": {
        "colab": {
          "base_uri": "https://localhost:8080/"
        },
        "id": "spW7hxdMfdqR",
        "outputId": "077425f5-9e09-43a0-c93d-65142162995b"
      },
      "outputs": [
        {
          "output_type": "stream",
          "name": "stdout",
          "text": [
            "88.33333333333333\n",
            "{'姓名': '賴宏瑋', '性別': '男', '學號': 'M1129020'}\n",
            "95.0\n",
            "{'姓名': '許珈綺', '性別': '女', '學號': 'M1229001'}\n"
          ]
        }
      ],
      "source": [
        "a = {'姓名':'賴宏瑋','性別':\"男\",'作業分數':[95,100,90]}\n",
        "b = {'學號':'M1129020'}\n",
        "c = {**a,**b}\n",
        "import copy\n",
        "d = copy.deepcopy(c)\n",
        "c['作業分數'][1] = 80\n",
        "d['姓名'] = '許珈綺'\n",
        "d['性別'] = '女'\n",
        "d['學號'] = 'M1229001'\n",
        "e = c.pop('作業分數')\n",
        "f = list(e)\n",
        "print((f[0]+f[1]+f[2])/3)\n",
        "print(c)\n",
        "g = d.pop('作業分數')\n",
        "h = list(g)\n",
        "print((h[0]+h[1]+h[2])/3)\n",
        "print(d)"
      ]
    },
    {
      "cell_type": "code",
      "source": [
        "a = [100,50,45,60,90,95,80,50]\n",
        "a.insert(0,88)\n",
        "a[2:5] = 70,50\n",
        "\n",
        "a.remove(50)\n",
        "b = a.pop(0)\n",
        "c = a.pop()\n",
        "\n",
        "print(b+c)"
      ],
      "metadata": {
        "colab": {
          "base_uri": "https://localhost:8080/"
        },
        "id": "Xh7XdT2Sl2OV",
        "outputId": "29ddcd87-f987-41e8-ef27-9ae2b2c9c61f"
      },
      "execution_count": 25,
      "outputs": [
        {
          "output_type": "stream",
          "name": "stdout",
          "text": [
            "138\n"
          ]
        }
      ]
    },
    {
      "cell_type": "code",
      "source": [
        "a = 347//3\n",
        "b = 347%3\n",
        "print(a)\n",
        "print(b)\n",
        "c = a**b\n",
        "print(c)"
      ],
      "metadata": {
        "colab": {
          "base_uri": "https://localhost:8080/"
        },
        "id": "qhDUF3SPqPbr",
        "outputId": "6f2a6f30-eaf8-4e38-8047-21c84cd506c9"
      },
      "execution_count": 29,
      "outputs": [
        {
          "output_type": "stream",
          "name": "stdout",
          "text": [
            "115\n",
            "2\n",
            "13225\n"
          ]
        }
      ]
    }
  ]
}