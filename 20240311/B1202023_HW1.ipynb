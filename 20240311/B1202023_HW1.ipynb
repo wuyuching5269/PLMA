{
  "nbformat": 4,
  "nbformat_minor": 0,
  "metadata": {
    "colab": {
      "provenance": []
    },
    "kernelspec": {
      "name": "python3",
      "display_name": "Python 3"
    },
    "language_info": {
      "name": "python"
    }
  },
  "cells": [
    {
      "cell_type": "code",
      "source": [
        "print(\"I'm a student\")\n"
      ],
      "metadata": {
        "colab": {
          "base_uri": "https://localhost:8080/"
        },
        "id": "yKMHs2gbz8f_",
        "outputId": "ec8d740d-8c1a-4c3e-a4a7-73d4471fa6a4"
      },
      "execution_count": 1,
      "outputs": [
        {
          "output_type": "stream",
          "name": "stdout",
          "text": [
            "I'm a student\n"
          ]
        }
      ]
    },
    {
      "cell_type": "code",
      "source": [
        "a = int(input(\"A點X座標\"))\n",
        "b = int(input(\"A點Y座標\"))\n",
        "c = int(input(\"B點X座標\"))\n",
        "d = int(input(\"B點Y座標\"))\n",
        "e = ((c-a)**2 + (d-b)**2)**0.5\n",
        "print(e)"
      ],
      "metadata": {
        "colab": {
          "base_uri": "https://localhost:8080/"
        },
        "id": "XX0ahPq-21F2",
        "outputId": "8d74eb12-9add-4e90-db75-55e74d0e7093"
      },
      "execution_count": 9,
      "outputs": [
        {
          "output_type": "stream",
          "name": "stdout",
          "text": [
            "A點X座標20\n",
            "A點Y座標15\n",
            "B點X座標100\n",
            "B點Y座標200\n",
            "201.55644370746373\n"
          ]
        }
      ]
    },
    {
      "cell_type": "code",
      "source": [
        "a = float(input(\"請輸入身高(cm)\"))\n",
        "b = float(input('請輸入體重(kg)'))\n",
        "a /= 100\n",
        "a **= 2\n",
        "c = b/a\n",
        "print(c)"
      ],
      "metadata": {
        "colab": {
          "base_uri": "https://localhost:8080/"
        },
        "id": "GdLVmB-x8kxN",
        "outputId": "1a64ac98-9c23-4943-dbff-880fca913f21"
      },
      "execution_count": 10,
      "outputs": [
        {
          "output_type": "stream",
          "name": "stdout",
          "text": [
            "請輸入身高(cm)180.5\n",
            "請輸入體重(kg)57.5\n",
            "17.648728907850614\n"
          ]
        }
      ]
    }
  ]
}