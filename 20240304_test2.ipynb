{
  "nbformat": 4,
  "nbformat_minor": 0,
  "metadata": {
    "colab": {
      "provenance": []
    },
    "kernelspec": {
      "name": "python3",
      "display_name": "Python 3"
    },
    "language_info": {
      "name": "python"
    }
  },
  "cells": [
    {
      "cell_type": "code",
      "execution_count": null,
      "metadata": {
        "colab": {
          "base_uri": "https://localhost:8080/"
        },
        "id": "XgA7TCjoeBD2",
        "outputId": "bfbe9e6b-dadc-4d72-dfdf-d82e227a4e2f"
      },
      "outputs": [
        {
          "output_type": "stream",
          "name": "stdout",
          "text": [
            "495\n"
          ]
        }
      ],
      "source": [
        "x = 2\n",
        "y = 1\n",
        "a = (2*x+y) * (100-y)\n",
        "print(a)"
      ]
    },
    {
      "cell_type": "code",
      "source": [
        "y = 4\n",
        "a = 100/(2*y+1)\n",
        "print(a)"
      ],
      "metadata": {
        "colab": {
          "base_uri": "https://localhost:8080/"
        },
        "id": "KnXh2GAHfGAb",
        "outputId": "98b38d3f-935f-4339-feca-67ffa6e21c59"
      },
      "execution_count": null,
      "outputs": [
        {
          "output_type": "stream",
          "name": "stdout",
          "text": [
            "11.11111111111111\n"
          ]
        }
      ]
    }
  ]
}